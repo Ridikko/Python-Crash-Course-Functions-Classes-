{
 "cells": [
  {
   "attachments": {},
   "cell_type": "markdown",
   "metadata": {},
   "source": [
    "## CHAPTER 8"
   ]
  },
  {
   "attachments": {},
   "cell_type": "markdown",
   "metadata": {},
   "source": [
    "#### Question 8-1: Message: Write a function called display_message() that prints one sentence telling everyone what you are learning about in this chapter. Call the function, and make sure the message displays correctly."
   ]
  },
  {
   "cell_type": "code",
   "execution_count": 1,
   "metadata": {},
   "outputs": [
    {
     "name": "stdout",
     "output_type": "stream",
     "text": [
      "I'm learning functions.\n"
     ]
    }
   ],
   "source": [
    "def display_message():\n",
    "    msg = \"I'm learning functions.\"\n",
    "    print(msg)\n",
    "\n",
    "display_message()"
   ]
  },
  {
   "attachments": {},
   "cell_type": "markdown",
   "metadata": {},
   "source": [
    "#### Question 8-2: Favorite Book: Write a function called favorite_book() that accepts one parameter, title. The function should print a message, such as One of my favorite books is Alice in Wonderland. Call the function, making sure to include a book title as an argument in the function call."
   ]
  },
  {
   "cell_type": "code",
   "execution_count": 2,
   "metadata": {},
   "outputs": [
    {
     "name": "stdout",
     "output_type": "stream",
     "text": [
      "Among my favorite books is The Science of Getting Rich\n"
     ]
    }
   ],
   "source": [
    "def favorite_book(title):\n",
    "    print(\"Among my favorite books is \" + title)\n",
    "\n",
    "favorite_book(\"The Science of Getting Rich\")"
   ]
  },
  {
   "attachments": {},
   "cell_type": "markdown",
   "metadata": {},
   "source": [
    "#### Question 8-3: T-Shirt: Write a function called make_shirt() that accepts a size and the text of a message that should be printed on the shirt. The function should print a sentence summarizing the size of the shirt and the message printed on it. Call the function once using positional arguments to make a shirt. Call the function a second time using keyword arguments."
   ]
  },
  {
   "cell_type": "code",
   "execution_count": 6,
   "metadata": {},
   "outputs": [
    {
     "name": "stdout",
     "output_type": "stream",
     "text": [
      "size of  Shirt medium and text message 'Go All The Way' is available!\n",
      "size of  Shirt medium and text message 'You're The Architect Of Your Future' is available!\n"
     ]
    }
   ],
   "source": [
    "def make_shirt(size, message_text):\n",
    "    print(\"size of  Shirt \" + size + \" and text message '\" + message_text + \"' is available!\")\n",
    "\n",
    "#using positional argument:\n",
    "make_shirt(\"medium\", \"Go All The Way\")\n",
    "\n",
    "#using keyword argument:\n",
    "make_shirt(message_text = \"You're The Architect Of Your Future\", size = \"medium\")"
   ]
  },
  {
   "attachments": {},
   "cell_type": "markdown",
   "metadata": {},
   "source": [
    "#### Question 8-4: Large Shirts: Modify the make_shirt() function so that shirts are large by default with a message that reads I love Python. Make a large shirt and a medium shirt with the default message, and a shirt of any size with a different message."
   ]
  },
  {
   "cell_type": "code",
   "execution_count": 4,
   "metadata": {},
   "outputs": [
    {
     "name": "stdout",
     "output_type": "stream",
     "text": [
      "size of shirt large and text message 'I love Python' is now ready!\n",
      "size of shirt medium and text message 'I love Python' is now ready!\n",
      "size of shirt medium and text message 'Go All The Way' is now ready!\n"
     ]
    }
   ],
   "source": [
    "def modified_make_shirt(size = \"large\", message_text = \"I love Python\"):\n",
    "    print(\"size of shirt \" + size + \" and text message '\" + message_text + \"' is now ready!\")\n",
    "\n",
    "#calling without passing arguments:\n",
    "modified_make_shirt()\n",
    "\n",
    "#medium shirt with defautlt message\n",
    "modified_make_shirt(\"medium\")\n",
    "\n",
    "#shirt of no default size and default message\n",
    "modified_make_shirt(\"medium\", \"Go All The Way\")"
   ]
  },
  {
   "attachments": {},
   "cell_type": "markdown",
   "metadata": {},
   "source": [
    "#### Question 8-5: Cities: Write a function called describe_city() that accepts the name of a city and its country. The function should print a simple sentence, such as Reykjavik is in Iceland. Give the parameter for the country a default value. Call your function for three different cities, at least one of which is not in the default country."
   ]
  },
  {
   "cell_type": "code",
   "execution_count": 3,
   "metadata": {},
   "outputs": [
    {
     "name": "stdout",
     "output_type": "stream",
     "text": [
      "Kano is in Nigeria.\n"
     ]
    }
   ],
   "source": [
    "def describe_city(city, country='Nigeria'):\n",
    "    \"\"\"Describe a city.\"\"\"\n",
    "    msg = f\"{city.title()} is in {country.title()}.\"\n",
    "    print(msg)\n",
    "\n",
    "describe_city('Kano')"
   ]
  },
  {
   "attachments": {},
   "cell_type": "markdown",
   "metadata": {},
   "source": [
    "#### Question 8-6: City Names: Write a function called city_country() that takes in the name of a city and its country. The function should return a string formatted like this: \"Santiago, Chile\" Call your function with at least three city-country pairs, and print the values that are returned."
   ]
  },
  {
   "cell_type": "code",
   "execution_count": 8,
   "metadata": {},
   "outputs": [
    {
     "name": "stdout",
     "output_type": "stream",
     "text": [
      "Rabat, Morocco\n"
     ]
    }
   ],
   "source": [
    "def city_country(city, country):\n",
    "    result_string = city.title() + \", \" + country.title()\n",
    "    return result_string\n",
    "\n",
    "print(city_country(\"Rabat\", \"Morocco\"))"
   ]
  },
  {
   "attachments": {},
   "cell_type": "markdown",
   "metadata": {},
   "source": [
    "#### Question 8-7: Album: Write a function called make_album() that builds a dictionary describing a music album. The function should take in an artist name and an album title, and it should return a dictionary containing these two pieces of information. Use the function to make three dictionaries representing different albums. Print each return value to show that the dictionaries are storing the album information correctly.\n",
    "#### Use None to add an optional parameter to make_album() that allows you to store the number of songs on an album. If the calling line includes a value for the number of songs, add that value to the album’s dictionary. Make at least one new function call that includes the number of songs on an album."
   ]
  },
  {
   "cell_type": "code",
   "execution_count": 10,
   "metadata": {},
   "outputs": [
    {
     "name": "stdout",
     "output_type": "stream",
     "text": [
      "{'artist_name': 'Maheer Zain', 'album_title': 'Awakening Records'}\n",
      "{'artist_name': 'Zain Bikha', 'album_title': \"Animals Love Qur'An\"}\n"
     ]
    }
   ],
   "source": [
    "def make_album(artist_name, album_title,):\n",
    "    \n",
    "    album = {}\n",
    "    album[\"artist_name\"] = artist_name.title()\n",
    "    album[\"album_title\"] = album_title.title()\n",
    "    return album\n",
    "\n",
    "print(make_album(\"Maheer Zain\", \"Awakening Records\"))\n",
    "print(make_album(\"Zain Bikha\", \"Animals Love Qur'an\"))"
   ]
  },
  {
   "attachments": {},
   "cell_type": "markdown",
   "metadata": {},
   "source": [
    "#### Question 8-8. User Albums: Start with your program from Exercise 8-7. Write a while loop that allows users to enter an album’s artist and title. Once you have that information, call make_album() with the user’s input and print the dictionary that’s created. Be sure to include a quit value in the while loop."
   ]
  },
  {
   "cell_type": "code",
   "execution_count": 11,
   "metadata": {},
   "outputs": [
    {
     "name": "stdout",
     "output_type": "stream",
     "text": [
      "{'artist_name': 'Maheer Zain', 'album_title': 'Ya Nabi Salam Alaika'}\n",
      "{'artist_name': 'Zain Bikha', 'album_title': 'Allah Is The Greatest'}\n"
     ]
    }
   ],
   "source": [
    "quit = \"\"\n",
    "\n",
    "while quit != \"q\":\n",
    "    artist_name = input(\"Enter artist's name \")\n",
    "    album_title = input(\"Enter album's title \")\n",
    "    \n",
    "    print(make_album(artist_name, album_title))\n",
    "    \n",
    "    quit = input(\"enter 'q' if you want to quit OR 'c' if you want to continue \")\n",
    "    "
   ]
  },
  {
   "attachments": {},
   "cell_type": "markdown",
   "metadata": {},
   "source": [
    "#### Question 8-9: Messages: Make a list containing a series of short text messages. Pass the list to a function called show_messages(), which prints each text message."
   ]
  },
  {
   "cell_type": "code",
   "execution_count": 13,
   "metadata": {},
   "outputs": [
    {
     "name": "stdout",
     "output_type": "stream",
     "text": [
      "I'm Rufa'i\n",
      "I Love Beign Myself\n"
     ]
    }
   ],
   "source": [
    "def show_messages(messages):\n",
    "    \"\"\"Print all messages in the list.\"\"\"\n",
    "    for message in messages:\n",
    "        print(message)\n",
    "\n",
    "messages = [\"I'm Rufa'i\", \"I Love Beign Myself\"]\n",
    "show_messages(messages)"
   ]
  },
  {
   "attachments": {},
   "cell_type": "markdown",
   "metadata": {},
   "source": [
    "#### Question 8-10: Sending Messages: Start with a copy of your program from Exercise 8-9. Write a function called send_messages() that prints each text message and moves each message to a new list called sent_messages as it’s printed. After calling the function, print both of your lists to make sure the messages were moved correctly."
   ]
  },
  {
   "cell_type": "code",
   "execution_count": 14,
   "metadata": {},
   "outputs": [
    {
     "name": "stdout",
     "output_type": "stream",
     "text": [
      "all messages:\n",
      "my name is Rufa'i\n",
      "I Love Being Myself\n",
      "\n",
      "Sending all messages:\n",
      "I Love Being Myself\n",
      "my name is Rufa'i\n",
      "\n",
      "Final lists:\n",
      "[]\n",
      "['I Love Being Myself', \"my name is Rufa'i\"]\n"
     ]
    }
   ],
   "source": [
    "def show_messages(messages):\n",
    "    print(\"all messages:\")\n",
    "    for message in messages:\n",
    "        print(message)\n",
    "\n",
    "def send_messages(messages, sent_messages):\n",
    "    print(\"\\nSending all messages:\")\n",
    "    while messages:\n",
    "        current_message = messages.pop()\n",
    "        print(current_message)\n",
    "        sent_messages.append(current_message)\n",
    "\n",
    "messages = [\"my name is Rufa'i\", \"I Love Being Myself\",]\n",
    "show_messages(messages)\n",
    "\n",
    "sent_messages = []\n",
    "send_messages(messages, sent_messages)\n",
    "\n",
    "print(\"\\nFinal lists:\")\n",
    "print(messages)\n",
    "print(sent_messages)"
   ]
  },
  {
   "attachments": {},
   "cell_type": "markdown",
   "metadata": {},
   "source": [
    "#### Question 8-11: Archived Messages: Start with your work from Exercise 8-10. Call the function send_messages() with a copy of the list of messages. After calling the function, print both of your lists to show that the original list has retained its messages."
   ]
  },
  {
   "cell_type": "code",
   "execution_count": 15,
   "metadata": {},
   "outputs": [
    {
     "name": "stdout",
     "output_type": "stream",
     "text": [
      "Showing all messages:\n",
      "my name is Rufa'i\n",
      "I Love Being Myself\n",
      "\n",
      "Sending all messages:\n",
      "I Love Being Myself\n",
      "my name is Rufa'i\n",
      "\n",
      "Final lists:\n",
      "[\"my name is Rufa'i\", 'I Love Being Myself']\n",
      "['I Love Being Myself', \"my name is Rufa'i\"]\n"
     ]
    }
   ],
   "source": [
    "def show_messages(messages):\n",
    "    print(\"Showing all messages:\")\n",
    "    for message in messages:\n",
    "        print(message)\n",
    "\n",
    "def send_messages(messages, sent_messages):\n",
    "    print(\"\\nSending all messages:\")\n",
    "    while messages:\n",
    "        current_message = messages.pop()\n",
    "        print(current_message)\n",
    "        sent_messages.append(current_message)\n",
    "\n",
    "messages = [\"my name is Rufa'i\", \"I Love Being Myself\"]\n",
    "show_messages(messages)\n",
    "\n",
    "sent_messages = []\n",
    "send_messages(messages[:], sent_messages)\n",
    "\n",
    "print(\"\\nFinal lists:\")\n",
    "print(messages)\n",
    "print(sent_messages)"
   ]
  },
  {
   "attachments": {},
   "cell_type": "markdown",
   "metadata": {},
   "source": [
    "#### Question 8-12: Sandwiches: Write a function that accepts a list of items a person wants on a sandwich. The function should have one parameter that collects as many items as the function call provides, and it should print a summary of the sandwich that’s being ordered. Call the function three times, using a different number of arguments each time."
   ]
  },
  {
   "cell_type": "code",
   "execution_count": 16,
   "metadata": {},
   "outputs": [
    {
     "name": "stdout",
     "output_type": "stream",
     "text": [
      "You ordered a sandwich that has:\n",
      "cucumber\n",
      "cheese\n",
      "mayo\n",
      "egss\n",
      "You ordered a sandwich that has:\n",
      "bacon\n",
      "lettuce\n",
      "tomato\n",
      "You ordered a sandwich that has:\n",
      "cheese\n",
      "turkey\n",
      "honey\n"
     ]
    }
   ],
   "source": [
    "def order_sandwich(*ingredients):\n",
    "    print(\"You ordered a sandwich that has:\")\n",
    "    \n",
    "    for item in ingredients:\n",
    "        print(item)\n",
    "    \n",
    "order_sandwich(\"cucumber\", \"cheese\", \"mayo\", \"egss\")\n",
    "order_sandwich(\"bacon\", \"lettuce\", \"tomato\")\n",
    "order_sandwich(\"cheese\", \"turkey\", \"honey\")"
   ]
  },
  {
   "attachments": {},
   "cell_type": "markdown",
   "metadata": {},
   "source": [
    "#### Question 8-13: User Profile: Start with a copy of user_profile.py from page 149. Build a profile of yourself by calling build_profile(), using your first and last names and three other key-value pairs that describe you."
   ]
  },
  {
   "cell_type": "code",
   "execution_count": 19,
   "metadata": {},
   "outputs": [
    {
     "name": "stdout",
     "output_type": "stream",
     "text": [
      "First name:  Rufa'i\n",
      "Last name:  Ibrahim\n",
      "Nationality: Nigerian\n",
      "Hair: Black\n",
      "Eyes: Red\n"
     ]
    }
   ],
   "source": [
    "def build_profile(first_name, last_name, **kwargs):\n",
    "    print(\"First name: \", first_name)\n",
    "    print(\"Last name: \", last_name)\n",
    "    for k, v in kwargs.items():\n",
    "        print(f\"{k}: {v}\")\n",
    "build_profile(\"Rufa'i\", \"Ibrahim\", Nationality=\"Nigerian\", Hair=\"Black\", Eyes=\"Red\")"
   ]
  },
  {
   "attachments": {},
   "cell_type": "markdown",
   "metadata": {},
   "source": [
    "#### Question 8-14: Cars: Write a function that stores information about a car in a dictionary. The function should always receive a manufacturer and a model name. It should then accept an arbitrary number of keyword arguments. Call the function with the required information and two other name-value pairs, such as a color or an optional feature. Your function should work for a call like this one: car = make_car('subaru', 'outback', color='blue', tow_package=True)\n",
    "#### Print the dictionary that’s returned to make sure all the information was stored correctly. Storing"
   ]
  },
  {
   "cell_type": "code",
   "execution_count": 21,
   "metadata": {},
   "outputs": [
    {
     "name": "stdout",
     "output_type": "stream",
     "text": [
      "{'manufacturer': 'Fiat', 'model': 'Pick-up', 'color': 'black', 'tow_package': True}\n"
     ]
    }
   ],
   "source": [
    "#Kwargs = keyword arguments\n",
    "def make_car(*args, **kwargs):\n",
    "    car_info = {}\n",
    "    car_info[\"manufacturer\"] = args[0]\n",
    "    car_info[\"model\"] = args[1]\n",
    "    \n",
    "    for key, val in kwargs.items():\n",
    "        car_info[key] = val\n",
    "    \n",
    "    return car_info\n",
    "\n",
    "print(make_car('Fiat', 'Pick-up', color='black', tow_package=True))"
   ]
  },
  {
   "attachments": {},
   "cell_type": "markdown",
   "metadata": {},
   "source": [
    "#### Question 8-15: Printing Models: Put the functions for the example printing_models.py in a separate file called printing_functions.py. Write an import statement at the top of printing_models.py, and modify the file to use the imported functions."
   ]
  },
  {
   "cell_type": "code",
   "execution_count": 22,
   "metadata": {},
   "outputs": [],
   "source": [
    "def print_models(unprinted_designs, completed_models):\n",
    "    while unprinted_designs:\n",
    "        current_design = unprinted_designs.pop()\n",
    "        print(f\"Printing model: {current_design}\")\n",
    "        completed_models.append(current_design)\n",
    "\n",
    "def show_completed_models(completed_models):\n",
    "    \"\"\"Show all the models that were printed.\"\"\"\n",
    "    print(\"\\nThe following models have been printed:\")\n",
    "    for completed_model in completed_models:\n",
    "        print(completed_model)"
   ]
  },
  {
   "attachments": {},
   "cell_type": "markdown",
   "metadata": {},
   "source": [
    "#### Question 8-16: Imports: Using a program you wrote that has one function in it, store that function in a separate file. Import the function into your main program file, and call the function using each of these approaches:\n",
    "##### import module_name\n",
    "##### from module_name import function_name\n",
    "##### from module_name import function_name as fn\n",
    "##### import module_name as mn\n",
    "##### from module_name import *"
   ]
  },
  {
   "cell_type": "code",
   "execution_count": 23,
   "metadata": {},
   "outputs": [
    {
     "name": "stdout",
     "output_type": "stream",
     "text": [
      "Printing model: dodecahedron\n",
      "Printing model: robot pendant\n",
      "Printing model: iphone case\n",
      "\n",
      "The following models have been printed:\n",
      "dodecahedron\n",
      "robot pendant\n",
      "iphone case\n"
     ]
    }
   ],
   "source": [
    "unprinted_designs = ['iphone case', 'robot pendant', 'dodecahedron']\n",
    "completed_models = []\n",
    "\n",
    "print_models(unprinted_designs, completed_models)\n",
    "show_completed_models(completed_models)"
   ]
  }
 ],
 "metadata": {
  "kernelspec": {
   "display_name": "Python 3",
   "language": "python",
   "name": "python3"
  },
  "language_info": {
   "codemirror_mode": {
    "name": "ipython",
    "version": 3
   },
   "file_extension": ".py",
   "mimetype": "text/x-python",
   "name": "python",
   "nbconvert_exporter": "python",
   "pygments_lexer": "ipython3",
   "version": "3.10.9"
  },
  "orig_nbformat": 4
 },
 "nbformat": 4,
 "nbformat_minor": 2
}
